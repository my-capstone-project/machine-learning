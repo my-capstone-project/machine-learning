{
  "nbformat": 4,
  "nbformat_minor": 0,
  "metadata": {
    "colab": {
      "provenance": [],
      "gpuType": "T4"
    },
    "kernelspec": {
      "name": "python3",
      "display_name": "Python 3"
    },
    "language_info": {
      "name": "python"
    },
    "accelerator": "GPU",
    "gpuClass": "standard"
  },
  "cells": [
    {
      "cell_type": "code",
      "source": [
        "from google.colab import drive\n",
        "drive.mount ('/content/drive')\n",
        "zip_path = '/content/drive/MyDrive/Capstone/Potholes.zip'\n",
        "data_dir = '/tmp/potholedataset'\n",
        "\n",
        "with zipfile.ZipFile(zip_path, 'r') as zip_ref:\n",
        "    zip_ref.extractall(data_dir)"
      ],
      "metadata": {
        "colab": {
          "base_uri": "https://localhost:8080/"
        },
        "id": "ic8ga4MlIu8X",
        "outputId": "a8286b55-13d6-40b7-f054-428b8ea94606"
      },
      "execution_count": 2,
      "outputs": [
        {
          "output_type": "stream",
          "name": "stdout",
          "text": [
            "Mounted at /content/drive\n"
          ]
        }
      ]
    },
    {
      "cell_type": "code",
      "source": [
        "import os\n",
        "import zipfile\n",
        "import random\n",
        "import shutil\n",
        "import tensorflow as tf\n",
        "from tensorflow.keras.preprocessing.image import ImageDataGenerator\n",
        "from shutil import copyfile\n",
        "import matplotlib.pyplot as plt"
      ],
      "metadata": {
        "id": "nPHCa_rPlnmP"
      },
      "execution_count": 1,
      "outputs": []
    },
    {
      "cell_type": "code",
      "source": [
        "source_path = '/tmp/potholedataset/Potholes'\n",
        "\n",
        "source_path_normal = os.path.join(source_path, 'Normal')\n",
        "source_path_pothole = os.path.join(source_path, 'Holes')\n",
        "\n",
        "\n",
        "# os.listdir returns a list containing all files under the given path\n",
        "print(f\"There are {len(os.listdir(source_path_normal))} images of normal.\")\n",
        "print(f\"There are {len(os.listdir(source_path_pothole))} images of pothole.\")"
      ],
      "metadata": {
        "colab": {
          "base_uri": "https://localhost:8080/"
        },
        "id": "DgcDD_lKIYSg",
        "outputId": "95f3e326-ff34-43f7-973b-06e8d476b0ee"
      },
      "execution_count": 3,
      "outputs": [
        {
          "output_type": "stream",
          "name": "stdout",
          "text": [
            "There are 1803 images of normal.\n",
            "There are 1283 images of pothole.\n"
          ]
        }
      ]
    },
    {
      "cell_type": "code",
      "source": [
        "# grader-required-cell\n",
        "\n",
        "# Define root directory\n",
        "root_dir = '/tmp/normal-v-holes'\n",
        "\n",
        "# Empty directory to prevent FileExistsError is the function is run several times\n",
        "if os.path.exists(root_dir):\n",
        "  shutil.rmtree(root_dir)\n",
        "\n",
        "# GRADED FUNCTION: create_train_val_dirs\n",
        "def create_train_val_dirs(root_path):\n",
        "  \"\"\"\n",
        "  Creates directories for the train and test sets\n",
        "  \n",
        "  Args:\n",
        "    root_path (string) - the base directory path to create subdirectories from\n",
        "  \n",
        "  Returns:\n",
        "    None\n",
        "  \"\"\"\n",
        "\n",
        "\n",
        "  # HINT:\n",
        "  # Use os.makedirs to create your directories with intermediate subdirectories\n",
        "  # Don't hardcode the paths. Use os.path.join to append the new directories to the root_path parameter\n",
        "\n",
        "  os.makedirs(os.path.join(root_path, 'training', 'Normal'))\n",
        "  os.makedirs(os.path.join(root_path, 'training', 'Holes'))\n",
        "  os.makedirs(os.path.join(root_path, 'validation', 'Normal'))\n",
        "  os.makedirs(os.path.join(root_path, 'validation', 'Holes'))\n",
        "\n",
        "  pass\n",
        "  \n",
        "  \n",
        "\n",
        "  \n",
        "try:\n",
        "  create_train_val_dirs(root_path=root_dir)\n",
        "except FileExistsError:\n",
        "  print(\"You should not be seeing this since the upper directory is removed beforehand\")"
      ],
      "metadata": {
        "id": "ZgLsfEzuknWT"
      },
      "execution_count": 4,
      "outputs": []
    },
    {
      "cell_type": "code",
      "source": [
        "# grader-required-cell\n",
        "\n",
        "# Test your create_train_val_dirs function\n",
        "\n",
        "for rootdir, dirs, files in os.walk(root_dir):\n",
        "    for subdir in dirs:\n",
        "        print(os.path.join(rootdir, subdir))"
      ],
      "metadata": {
        "colab": {
          "base_uri": "https://localhost:8080/"
        },
        "id": "XLefyPD8m84R",
        "outputId": "0a06dd6e-b1b2-4bf3-abd9-750b0f81c56f"
      },
      "execution_count": 5,
      "outputs": [
        {
          "output_type": "stream",
          "name": "stdout",
          "text": [
            "/tmp/normal-v-holes/validation\n",
            "/tmp/normal-v-holes/training\n",
            "/tmp/normal-v-holes/validation/Normal\n",
            "/tmp/normal-v-holes/validation/Holes\n",
            "/tmp/normal-v-holes/training/Normal\n",
            "/tmp/normal-v-holes/training/Holes\n"
          ]
        }
      ]
    },
    {
      "cell_type": "code",
      "source": [
        "# grader-required-cell\n",
        "\n",
        "# GRADED FUNCTION: split_data\n",
        "def split_data(SOURCE_DIR, TRAINING_DIR, VALIDATION_DIR, SPLIT_SIZE):\n",
        "  \"\"\"\n",
        "  Splits the data into train and test sets\n",
        "  \n",
        "  Args:\n",
        "    SOURCE_DIR (string): directory path containing the images\n",
        "    TRAINING_DIR (string): directory path to be used for training\n",
        "    VALIDATION_DIR (string): directory path to be used for validation\n",
        "    SPLIT_SIZE (float): proportion of the dataset to be used for training\n",
        "    \n",
        "  Returns:\n",
        "    None\n",
        "  \"\"\"\n",
        "  \n",
        "  files = []\n",
        "  for filename in os.listdir(SOURCE_DIR):\n",
        "    file = SOURCE_DIR + filename\n",
        "    if os.path.getsize(file) > 0:\n",
        "      files.append(filename)\n",
        "    else:\n",
        "      print(filename + \" is zero length, so ignoring.\")\n",
        "  \n",
        "  # Step 2: Shuffle the files\n",
        "  random.shuffle(files)\n",
        "\n",
        "  # Step 3: Split the files into training and validation sets\n",
        "  split_idx = int(len(files) * SPLIT_SIZE)\n",
        "  train_files = files[:split_idx]\n",
        "  validation_files = files[split_idx:]\n",
        "  \n",
        "  # Step 4: Copy the files into the appropriate directories\n",
        "  for filename in train_files:\n",
        "    this_file = SOURCE_DIR + filename\n",
        "    destination = TRAINING_DIR + filename\n",
        "    shutil.copyfile(this_file, destination)\n",
        "    \n",
        "  for filename in validation_files:\n",
        "    this_file = SOURCE_DIR + filename\n",
        "    destination = VALIDATION_DIR + filename\n",
        "    shutil.copyfile(this_file, destination)\n",
        "  pass\n",
        "\n",
        "\n",
        "  "
      ],
      "metadata": {
        "id": "edYHS_x1nHaT"
      },
      "execution_count": 6,
      "outputs": []
    },
    {
      "cell_type": "code",
      "source": [
        "# grader-required-cell\n",
        "\n",
        "# Test your split_data function\n",
        "\n",
        "# Define paths\n",
        "\n",
        "NORMAL_SOURCE_DIR = '/tmp/potholedataset/Potholes/Normal/'\n",
        "POTHOLES_SOURCE_DIR = '/tmp/potholedataset/Potholes/Holes/'\n",
        "\n",
        "TRAINING_DIR = \"/tmp/normal-v-holes/training/\"\n",
        "VALIDATION_DIR = \"/tmp/normal-v-holes/validation/\"\n",
        "\n",
        "TRAINING_NORMAL_DIR = os.path.join(TRAINING_DIR, \"Normal/\")\n",
        "VALIDATION_NORMAL_DIR = os.path.join(VALIDATION_DIR, \"Normal/\")\n",
        "\n",
        "TRAINING_HOLES_DIR = os.path.join(TRAINING_DIR, \"Holes/\")\n",
        "VALIDATION_HOLES_DIR = os.path.join(VALIDATION_DIR, \"Holes/\")"
      ],
      "metadata": {
        "id": "2oUEaUKxpn8H"
      },
      "execution_count": 7,
      "outputs": []
    },
    {
      "cell_type": "code",
      "source": [
        "# Empty directories in case you run this cell multiple times\n",
        "if len(os.listdir(TRAINING_NORMAL_DIR)) > 0:\n",
        "  for file in os.scandir(TRAINING_NORMAL_DIR):\n",
        "    os.remove(file.path)\n",
        "if len(os.listdir(TRAINING_HOLES_DIR)) > 0:\n",
        "  for file in os.scandir(TRAINING_HOLES_DIR):\n",
        "    os.remove(file.path)\n",
        "if len(os.listdir(VALIDATION_NORMAL_DIR)) > 0:\n",
        "  for file in os.scandir(VALIDATION_NORMAL_DIR):\n",
        "    os.remove(file.path)\n",
        "if len(os.listdir(VALIDATION_HOLES_DIR)) > 0:\n",
        "  for file in os.scandir(VALIDATION_HOLES_DIR):\n",
        "    os.remove(file.path)\n"
      ],
      "metadata": {
        "id": "BsyedFgC9eQZ"
      },
      "execution_count": 8,
      "outputs": []
    },
    {
      "cell_type": "code",
      "source": [
        "# Define proportion of images used for training\n",
        "split_size = .9\n",
        "\n",
        "# Run the function\n",
        "# NOTE: Messages about zero length images should be printed out\n",
        "split_data(NORMAL_SOURCE_DIR, TRAINING_NORMAL_DIR, VALIDATION_NORMAL_DIR, split_size)\n",
        "split_data(POTHOLES_SOURCE_DIR, TRAINING_HOLES_DIR, VALIDATION_HOLES_DIR, split_size)\n"
      ],
      "metadata": {
        "id": "HiXAxE2n-DVC"
      },
      "execution_count": 9,
      "outputs": []
    },
    {
      "cell_type": "code",
      "source": [
        "# Your function should perform copies rather than moving images so original directories should contain unchanged images\n",
        "#print(f\"\\n\\nOriginal normal's directory has {len(os.listdir(NORMAL_SOURCE_DIR))} images\")\n",
        "#print(f\"Original holes's directory has {len(os.listdir(HOLES_SOURCE_DIR))} images\\n\")\n",
        "\n",
        "# Training and validation splits. Check that the number of images matches the expected output.\n",
        "print(f\"There are {len(os.listdir(TRAINING_NORMAL_DIR))} images of normal for training\")\n",
        "print(f\"There are {len(os.listdir(TRAINING_HOLES_DIR))} images of holes for training\")\n",
        "print(f\"There are {len(os.listdir(VALIDATION_NORMAL_DIR))} images of normal for validation\")\n",
        "print(f\"There are {len(os.listdir(VALIDATION_HOLES_DIR))} images of holes for validation\")"
      ],
      "metadata": {
        "colab": {
          "base_uri": "https://localhost:8080/"
        },
        "id": "5FnLClqh-YeY",
        "outputId": "b61cebc5-f0db-4cb4-9400-72e2f2a62a70"
      },
      "execution_count": 10,
      "outputs": [
        {
          "output_type": "stream",
          "name": "stdout",
          "text": [
            "There are 1622 images of normal for training\n",
            "There are 1154 images of holes for training\n",
            "There are 181 images of normal for validation\n",
            "There are 129 images of holes for validation\n"
          ]
        }
      ]
    },
    {
      "cell_type": "code",
      "source": [
        "# grader-required-cell\n",
        "\n",
        "# GRADED FUNCTION: train_val_generators\n",
        "def train_val_generators(TRAINING_DIR, VALIDATION_DIR):\n",
        "  \"\"\"\n",
        "  Creates the training and validation data generators\n",
        "  \n",
        "  Args:\n",
        "    TRAINING_DIR (string): directory path containing the training images\n",
        "    VALIDATION_DIR (string): directory path containing the testing/validation images\n",
        "    \n",
        "  Returns:\n",
        "    train_generator, validation_generator - tuple containing the generators\n",
        "  \"\"\"\n",
        "  ### START CODE HERE\n",
        "\n",
        "  # Instantiate the ImageDataGenerator class (don't forget to set the arguments to augment the images)\n",
        "  train_datagen = ImageDataGenerator(rescale=1./255,\n",
        "                                     rotation_range=40,\n",
        "                                     width_shift_range=0.2,\n",
        "                                     height_shift_range=0.2,\n",
        "                                     shear_range=0.2,\n",
        "                                     zoom_range=0.2,\n",
        "                                     horizontal_flip=True,\n",
        "                                     fill_mode='nearest')\n",
        "\n",
        "  # Pass in the appropriate arguments to the flow_from_directory method\n",
        "  train_generator = train_datagen.flow_from_directory(directory=TRAINING_DIR,\n",
        "                                                      batch_size=20,\n",
        "                                                      class_mode='binary',\n",
        "                                                      target_size=(300, 300))\n",
        "\n",
        "  # Instantiate the ImageDataGenerator class (don't forget to set the rescale argument)\n",
        "  validation_datagen = ImageDataGenerator(rescale=1./255)\n",
        "\n",
        "  # Pass in the appropriate arguments to the flow_from_directory method\n",
        "  validation_generator = validation_datagen.flow_from_directory(directory=VALIDATION_DIR,\n",
        "                                                                batch_size=20,\n",
        "                                                                class_mode='binary',\n",
        "                                                                target_size=(300, 300))\n",
        "  ### END CODE HERE\n",
        "  return train_generator, validation_generator"
      ],
      "metadata": {
        "id": "iSqI7CWqPthi"
      },
      "execution_count": 11,
      "outputs": []
    },
    {
      "cell_type": "code",
      "source": [
        "# grader-required-cell\n",
        "\n",
        "# Test your generators\n",
        "train_generator, validation_generator = train_val_generators(TRAINING_DIR, VALIDATION_DIR)"
      ],
      "metadata": {
        "colab": {
          "base_uri": "https://localhost:8080/"
        },
        "id": "IbO-BnehQBSs",
        "outputId": "d23b0eed-e869-4e11-9622-312bbd5f691f"
      },
      "execution_count": 12,
      "outputs": [
        {
          "output_type": "stream",
          "name": "stdout",
          "text": [
            "Found 2776 images belonging to 2 classes.\n",
            "Found 310 images belonging to 2 classes.\n"
          ]
        }
      ]
    },
    {
      "cell_type": "code",
      "source": [
        "# grader-required-cell\n",
        "\n",
        "# GRADED FUNCTION: create_model\n",
        "def create_model():\n",
        "  # DEFINE A KERAS MODEL TO CLASSIFY CATS V DOGS\n",
        "  # USE AT LEAST 3 CONVOLUTION LAYERS\n",
        "\n",
        "  ### START CODE HERE\n",
        "\n",
        "  model = tf.keras.models.Sequential([  \n",
        "      # First Convolution layer with 32 filters and 3x3 kernel size\n",
        "      tf.keras.layers.Conv2D(32, (3,3), activation='relu', input_shape=(300,300,3)),\n",
        "      tf.keras.layers.MaxPooling2D(2,2),\n",
        "      # Second Convolution layer with 64 filters and 3x3 kernel size\n",
        "      tf.keras.layers.Conv2D(64, (3,3), activation='relu'),\n",
        "      tf.keras.layers.MaxPooling2D(2,2),\n",
        "      # Third Convolution layer with 128 filters and 3x3 kernel size\n",
        "      tf.keras.layers.Conv2D(128, (3,3), activation='relu'),\n",
        "      tf.keras.layers.MaxPooling2D(2,2),\n",
        "      # Flatten the output layer to 1 dimension\n",
        "      tf.keras.layers.Flatten(),\n",
        "      # Add a hidden layer with 512 neurons and relu activation\n",
        "      tf.keras.layers.Dense(512, activation='relu'),\n",
        "      # Add output layer with sigmoid activation\n",
        "      tf.keras.layers.Dense(1, activation='sigmoid')\n",
        "  ])\n",
        "\n",
        "  \n",
        "  model.compile(optimizer='adam',\n",
        "                loss='binary_crossentropy',\n",
        "                metrics=['accuracy']) \n",
        "    \n",
        "  ### END CODE HERE\n",
        "\n",
        "  return model"
      ],
      "metadata": {
        "id": "yW8aNw1sS8Xn"
      },
      "execution_count": 13,
      "outputs": []
    },
    {
      "cell_type": "code",
      "source": [
        "# Get the untrained model\n",
        "model = create_model()\n",
        "\n",
        "# Train the model\n",
        "# Note that this may take some time.\n",
        "history = model.fit(train_generator,\n",
        "                    epochs=20,\n",
        "                    verbose=1,\n",
        "                    validation_data=validation_generator)"
      ],
      "metadata": {
        "colab": {
          "base_uri": "https://localhost:8080/"
        },
        "id": "b5cYB_2PTIHx",
        "outputId": "44624fef-4c09-48a9-892a-237ba6a710f6"
      },
      "execution_count": 14,
      "outputs": [
        {
          "output_type": "stream",
          "name": "stdout",
          "text": [
            "Epoch 1/20\n",
            "139/139 [==============================] - 90s 561ms/step - loss: 0.6003 - accuracy: 0.7640 - val_loss: 0.2661 - val_accuracy: 0.9000\n",
            "Epoch 2/20\n",
            "139/139 [==============================] - 78s 562ms/step - loss: 0.3829 - accuracy: 0.8408 - val_loss: 0.6246 - val_accuracy: 0.5903\n",
            "Epoch 3/20\n",
            "139/139 [==============================] - 78s 558ms/step - loss: 0.3709 - accuracy: 0.8527 - val_loss: 0.1994 - val_accuracy: 0.9355\n",
            "Epoch 4/20\n",
            "139/139 [==============================] - 77s 550ms/step - loss: 0.2633 - accuracy: 0.8995 - val_loss: 0.1412 - val_accuracy: 0.9452\n",
            "Epoch 5/20\n",
            "139/139 [==============================] - 78s 563ms/step - loss: 0.2571 - accuracy: 0.9035 - val_loss: 0.1407 - val_accuracy: 0.9290\n",
            "Epoch 6/20\n",
            "139/139 [==============================] - 79s 567ms/step - loss: 0.2666 - accuracy: 0.9017 - val_loss: 0.1489 - val_accuracy: 0.9355\n",
            "Epoch 7/20\n",
            "139/139 [==============================] - 79s 570ms/step - loss: 0.2240 - accuracy: 0.9153 - val_loss: 0.1128 - val_accuracy: 0.9548\n",
            "Epoch 8/20\n",
            "139/139 [==============================] - 77s 553ms/step - loss: 0.1920 - accuracy: 0.9272 - val_loss: 0.1050 - val_accuracy: 0.9645\n",
            "Epoch 9/20\n",
            "139/139 [==============================] - 78s 559ms/step - loss: 0.1849 - accuracy: 0.9319 - val_loss: 0.0864 - val_accuracy: 0.9710\n",
            "Epoch 10/20\n",
            "139/139 [==============================] - 77s 555ms/step - loss: 0.2038 - accuracy: 0.9207 - val_loss: 0.0752 - val_accuracy: 0.9839\n",
            "Epoch 11/20\n",
            "139/139 [==============================] - 78s 560ms/step - loss: 0.1692 - accuracy: 0.9359 - val_loss: 0.1059 - val_accuracy: 0.9677\n",
            "Epoch 12/20\n",
            "139/139 [==============================] - 78s 560ms/step - loss: 0.1443 - accuracy: 0.9456 - val_loss: 0.0973 - val_accuracy: 0.9645\n",
            "Epoch 13/20\n",
            "139/139 [==============================] - 77s 556ms/step - loss: 0.1671 - accuracy: 0.9402 - val_loss: 0.0781 - val_accuracy: 0.9774\n",
            "Epoch 14/20\n",
            "139/139 [==============================] - 79s 567ms/step - loss: 0.1299 - accuracy: 0.9571 - val_loss: 0.1132 - val_accuracy: 0.9645\n",
            "Epoch 15/20\n",
            "139/139 [==============================] - 78s 561ms/step - loss: 0.1660 - accuracy: 0.9384 - val_loss: 0.1092 - val_accuracy: 0.9806\n",
            "Epoch 16/20\n",
            "139/139 [==============================] - 77s 553ms/step - loss: 0.1290 - accuracy: 0.9528 - val_loss: 0.0769 - val_accuracy: 0.9806\n",
            "Epoch 17/20\n",
            "139/139 [==============================] - 78s 561ms/step - loss: 0.1248 - accuracy: 0.9528 - val_loss: 0.0799 - val_accuracy: 0.9774\n",
            "Epoch 18/20\n",
            "139/139 [==============================] - 78s 561ms/step - loss: 0.1182 - accuracy: 0.9579 - val_loss: 0.0613 - val_accuracy: 0.9839\n",
            "Epoch 19/20\n",
            "139/139 [==============================] - 76s 550ms/step - loss: 0.1348 - accuracy: 0.9517 - val_loss: 0.0803 - val_accuracy: 0.9742\n",
            "Epoch 20/20\n",
            "139/139 [==============================] - 79s 569ms/step - loss: 0.1040 - accuracy: 0.9658 - val_loss: 0.0767 - val_accuracy: 0.9774\n"
          ]
        }
      ]
    },
    {
      "cell_type": "code",
      "source": [
        "#-----------------------------------------------------------\n",
        "# Retrieve a list of list results on training and test data\n",
        "# sets for each training epoch\n",
        "#-----------------------------------------------------------\n",
        "acc=history.history['accuracy']\n",
        "val_acc=history.history['val_accuracy']\n",
        "loss=history.history['loss']\n",
        "val_loss=history.history['val_loss']\n",
        "\n",
        "epochs=range(len(acc)) # Get number of epochs\n",
        "\n",
        "#------------------------------------------------\n",
        "# Plot training and validation accuracy per epoch\n",
        "#------------------------------------------------\n",
        "plt.plot(epochs, acc, 'r', \"Training Accuracy\")\n",
        "plt.plot(epochs, val_acc, 'b', \"Validation Accuracy\")\n",
        "plt.title('Training and validation accuracy')\n",
        "plt.show()\n",
        "print(\"\")\n",
        "\n",
        "#------------------------------------------------\n",
        "# Plot training and validation loss per epoch\n",
        "#------------------------------------------------\n",
        "plt.plot(epochs, loss, 'r', \"Training Loss\")\n",
        "plt.plot(epochs, val_loss, 'b', \"Validation Loss\")\n",
        "plt.show()"
      ],
      "metadata": {
        "colab": {
          "base_uri": "https://localhost:8080/",
          "height": 882
        },
        "id": "uhlWXxPfVnPu",
        "outputId": "2dbadb0a-db7c-45a2-9593-a3fac530b2aa"
      },
      "execution_count": 15,
      "outputs": [
        {
          "output_type": "display_data",
          "data": {
            "text/plain": [
              "<Figure size 640x480 with 1 Axes>"
            ],
            "image/png": "[encoded data removed]"
          },
          "metadata": {}
        },
        {
          "output_type": "stream",
          "name": "stdout",
          "text": [
            "\n"
          ]
        },
        {
          "output_type": "display_data",
          "data": {
            "text/plain": [
              "<Figure size 640x480 with 1 Axes>"
            ],
            "image/png": "[encoded data removed]"
          },
          "metadata": {}
        }
      ]
    },
    {
      "cell_type": "code",
      "source": [
        "from google.colab import files\n",
        "from tensorflow.keras.utils import load_img, img_to_array\n",
        "import numpy as np\n",
        "\n",
        "uploaded=files.upload()\n",
        "\n",
        "for fn in uploaded.keys():\n",
        " \n",
        "  # predicting images\n",
        "  path='/content/' + fn\n",
        "  img=load_img(path, target_size=(300, 300))\n",
        "  \n",
        "  x=img_to_array(img)\n",
        "  x /= 255\n",
        "  x= np.expand_dims(x, axis=0)\n",
        "  images = np.vstack([x])\n",
        "  \n",
        "  classes = model.predict(images, batch_size=20)\n",
        "  \n",
        "  print(classes[0])\n",
        "  \n",
        "  if classes[0]>0.5:\n",
        "    print(fn + \" is a normal\")\n",
        "  else:\n",
        "    print(fn + \" is a pothole\")\n",
        " "
      ],
      "metadata": {
        "colab": {
          "base_uri": "https://localhost:8080/",
          "height": 125
        },
        "id": "J2lrvJIHXmlr",
        "outputId": "4b87a1c3-a92c-4148-cd5c-166a28cf367f"
      },
      "execution_count": 16,
      "outputs": [
        {
          "output_type": "display_data",
          "data": {
            "text/plain": [
              "<IPython.core.display.HTML object>"
            ],
            "text/html": [
              "\n",
              "     <input type=\"file\" id=\"files-1ddc29c1-4b1d-417d-b82b-66d115570806\" name=\"files[]\" multiple disabled\n",
              "        style=\"border:none\" />\n",
              "     <output id=\"result-1ddc29c1-4b1d-417d-b82b-66d115570806\">\n",
              "      Upload widget is only available when the cell has been executed in the\n",
              "      current browser session. Please rerun this cell to enable.\n",
              "      </output>\n",
              "      <script>// Copyright 2017 Google LLC\n",
              "//\n",
              "// Licensed under the Apache License, Version 2.0 (the \"License\");\n",
              "// you may not use this file except in compliance with the License.\n",
              "// You may obtain a copy of the License at\n",
              "//\n",
              "//      http://www.apache.org/licenses/LICENSE-2.0\n",
              "//\n",
              "// Unless required by applicable law or agreed to in writing, software\n",
              "// distributed under the License is distributed on an \"AS IS\" BASIS,\n",
              "// WITHOUT WARRANTIES OR CONDITIONS OF ANY KIND, either express or implied.\n",
              "// See the License for the specific language governing permissions and\n",
              "// limitations under the License.\n",
              "\n",
              "/**\n",
              " * @fileoverview Helpers for google.colab Python module.\n",
              " */\n",
              "(function(scope) {\n",
              "function span(text, styleAttributes = {}) {\n",
              "  const element = document.createElement('span');\n",
              "  element.textContent = text;\n",
              "  for (const key of Object.keys(styleAttributes)) {\n",
              "    element.style[key] = styleAttributes[key];\n",
              "  }\n",
              "  return element;\n",
              "}\n",
              "\n",
              "// Max number of bytes which will be uploaded at a time.\n",
              "const MAX_PAYLOAD_SIZE = 100 * 1024;\n",
              "\n",
              "function _uploadFiles(inputId, outputId) {\n",
              "  const steps = uploadFilesStep(inputId, outputId);\n",
              "  const outputElement = document.getElementById(outputId);\n",
              "  // Cache steps on the outputElement to make it available for the next call\n",
              "  // to uploadFilesContinue from Python.\n",
              "  outputElement.steps = steps;\n",
              "\n",
              "  return _uploadFilesContinue(outputId);\n",
              "}\n",
              "\n",
              "// This is roughly an async generator (not supported in the browser yet),\n",
              "// where there are multiple asynchronous steps and the Python side is going\n",
              "// to poll for completion of each step.\n",
              "// This uses a Promise to block the python side on completion of each step,\n",
              "// then passes the result of the previous step as the input to the next step.\n",
              "function _uploadFilesContinue(outputId) {\n",
              "  const outputElement = document.getElementById(outputId);\n",
              "  const steps = outputElement.steps;\n",
              "\n",
              "  const next = steps.next(outputElement.lastPromiseValue);\n",
              "  return Promise.resolve(next.value.promise).then((value) => {\n",
              "    // Cache the last promise value to make it available to the next\n",
              "    // step of the generator.\n",
              "    outputElement.lastPromiseValue = value;\n",
              "    return next.value.response;\n",
              "  });\n",
              "}\n",
              "\n",
              "/**\n",
              " * Generator function which is called between each async step of the upload\n",
              " * process.\n",
              " * @param {string} inputId Element ID of the input file picker element.\n",
              " * @param {string} outputId Element ID of the output display.\n",
              " * @return {!Iterable<!Object>} Iterable of next steps.\n",
              " */\n",
              "function* uploadFilesStep(inputId, outputId) {\n",
              "  const inputElement = document.getElementById(inputId);\n",
              "  inputElement.disabled = false;\n",
              "\n",
              "  const outputElement = document.getElementById(outputId);\n",
              "  outputElement.innerHTML = '';\n",
              "\n",
              "  const pickedPromise = new Promise((resolve) => {\n",
              "    inputElement.addEventListener('change', (e) => {\n",
              "      resolve(e.target.files);\n",
              "    });\n",
              "  });\n",
              "\n",
              "  const cancel = document.createElement('button');\n",
              "  inputElement.parentElement.appendChild(cancel);\n",
              "  cancel.textContent = 'Cancel upload';\n",
              "  const cancelPromise = new Promise((resolve) => {\n",
              "    cancel.onclick = () => {\n",
              "      resolve(null);\n",
              "    };\n",
              "  });\n",
              "\n",
              "  // Wait for the user to pick the files.\n",
              "  const files = yield {\n",
              "    promise: Promise.race([pickedPromise, cancelPromise]),\n",
              "    response: {\n",
              "      action: 'starting',\n",
              "    }\n",
              "  };\n",
              "\n",
              "  cancel.remove();\n",
              "\n",
              "  // Disable the input element since further picks are not allowed.\n",
              "  inputElement.disabled = true;\n",
              "\n",
              "  if (!files) {\n",
              "    return {\n",
              "      response: {\n",
              "        action: 'complete',\n",
              "      }\n",
              "    };\n",
              "  }\n",
              "\n",
              "  for (const file of files) {\n",
              "    const li = document.createElement('li');\n",
              "    li.append(span(file.name, {fontWeight: 'bold'}));\n",
              "    li.append(span(\n",
              "        `(${file.type || 'n/a'}) - ${file.size} bytes, ` +\n",
              "        `last modified: ${\n",
              "            file.lastModifiedDate ? file.lastModifiedDate.toLocaleDateString() :\n",
              "                                    'n/a'} - `));\n",
              "    const percent = span('0% done');\n",
              "    li.appendChild(percent);\n",
              "\n",
              "    outputElement.appendChild(li);\n",
              "\n",
              "    const fileDataPromise = new Promise((resolve) => {\n",
              "      const reader = new FileReader();\n",
              "      reader.onload = (e) => {\n",
              "        resolve(e.target.result);\n",
              "      };\n",
              "      reader.readAsArrayBuffer(file);\n",
              "    });\n",
              "    // Wait for the data to be ready.\n",
              "    let fileData = yield {\n",
              "      promise: fileDataPromise,\n",
              "      response: {\n",
              "        action: 'continue',\n",
              "      }\n",
              "    };\n",
              "\n",
              "    // Use a chunked sending to avoid message size limits. See b/62115660.\n",
              "    let position = 0;\n",
              "    do {\n",
              "      const length = Math.min(fileData.byteLength - position, MAX_PAYLOAD_SIZE);\n",
              "      const chunk = new Uint8Array(fileData, position, length);\n",
              "      position += length;\n",
              "\n",
              "      const base64 = btoa(String.fromCharCode.apply(null, chunk));\n",
              "      yield {\n",
              "        response: {\n",
              "          action: 'append',\n",
              "          file: file.name,\n",
              "          data: base64,\n",
              "        },\n",
              "      };\n",
              "\n",
              "      let percentDone = fileData.byteLength === 0 ?\n",
              "          100 :\n",
              "          Math.round((position / fileData.byteLength) * 100);\n",
              "      percent.textContent = `${percentDone}% done`;\n",
              "\n",
              "    } while (position < fileData.byteLength);\n",
              "  }\n",
              "\n",
              "  // All done.\n",
              "  yield {\n",
              "    response: {\n",
              "      action: 'complete',\n",
              "    }\n",
              "  };\n",
              "}\n",
              "\n",
              "scope.google = scope.google || {};\n",
              "scope.google.colab = scope.google.colab || {};\n",
              "scope.google.colab._files = {\n",
              "  _uploadFiles,\n",
              "  _uploadFilesContinue,\n",
              "};\n",
              "})(self);\n",
              "</script> "
            ]
          },
          "metadata": {}
        },
        {
          "output_type": "stream",
          "name": "stdout",
          "text": [
            "Saving 6.jpg to 6.jpg\n",
            "1/1 [==============================] - 0s 265ms/step\n",
            "[4.6348537e-13]\n",
            "6.jpg is a pothole\n"
          ]
        }
      ]
    },
    {
      "cell_type": "code",
      "source": [
        "model.save(\"model.h5\")"
      ],
      "metadata": {
        "id": "mvmC3_ehPbKw"
      },
      "execution_count": 17,
      "outputs": []
    }
  ]
}